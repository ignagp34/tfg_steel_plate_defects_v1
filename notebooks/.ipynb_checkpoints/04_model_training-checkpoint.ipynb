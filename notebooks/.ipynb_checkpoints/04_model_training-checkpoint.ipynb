{
 "cells": [
  {
   "cell_type": "markdown",
   "id": "7184458f-c6d6-4939-9739-96c4d19e390c",
   "metadata": {},
   "source": [
    "3. Model Training\n",
    "**Objetivo**: Entrenar y evaluar los modelos (`rf`, `logreg`, `lgbm`) usando validación cruzada multilabel, medir ROC-AUC por clase y guardar artefactos. "
   ]
  },
  {
   "cell_type": "code",
   "execution_count": 2,
   "id": "039009d4-3892-4596-8749-52054d7bb93c",
   "metadata": {},
   "outputs": [],
   "source": [
    "import sys, os\n",
    "from pathlib import Path\n",
    "import joblib\n",
    "import pandas as pd\n",
    "import numpy as np\n",
    "import matplotlib.pyplot as plt\n",
    "from sklearn.metrics import roc_auc_score"
   ]
  },
  {
   "cell_type": "code",
   "execution_count": 3,
   "id": "ad9ddcd3-6930-42f3-94c0-a5051c480ae4",
   "metadata": {},
   "outputs": [
    {
     "name": "stdout",
     "output_type": "stream",
     "text": [
      "C:\\Users\\ignag\\OneDrive\\Documentos\\tfg‑steel‑plate‑defects\n"
     ]
    }
   ],
   "source": [
    "root = os.path.abspath(os.path.join(os.getcwd(), '..'))\n",
    "if root not in sys.path:\n",
    "    sys.path.insert(0, root)\n",
    "print(root)"
   ]
  },
  {
   "cell_type": "code",
   "execution_count": 4,
   "id": "d96eff35-c468-49ff-95fe-fc4be0d88f8c",
   "metadata": {},
   "outputs": [],
   "source": [
    "# Añade src al path para importar módulos propios\n",
    "from src import ROOT_DIR\n",
    "from src.pipeline.preprocessing import build_preprocessing_pipeline\n",
    "from src.models.training import (\n",
    "    load_data, make_holdout_split, make_folds,\n",
    "    compute_pos_weights, build_estimator, roc_auc_by_class\n",
    ")\n",
    "\n",
    "# Parámetros\n",
    "MODEL_NAME = sys.argv[1] if len(sys.argv) > 1 else \"lgbm\"\n",
    "N_SPLITS = 5\n",
    "RANDOM_STATE = 2\n",
    "DATA_RAW = ROOT_DIR / \"data/raw/playground-series-s4e3\""
   ]
  },
  {
   "cell_type": "markdown",
   "id": "5f2e6004-5f10-4101-90a4-61129134c667",
   "metadata": {
    "jp-MarkdownHeadingCollapsed": true
   },
   "source": []
  },
  {
   "cell_type": "code",
   "execution_count": 6,
   "id": "c8f42f7f-bdb2-4acf-9598-e0f552f4e25e",
   "metadata": {},
   "outputs": [
    {
     "name": "stdout",
     "output_type": "stream",
     "text": [
      "Train: 16336 filas, Hold-out: 2883 filas\n",
      "Número de folds: 5\n"
     ]
    }
   ],
   "source": [
    "# Carga X, y\n",
    "X, y = load_data()\n",
    "\n",
    "# Hold-out estratificado multilabel\n",
    "train_idx, hold_idx = make_holdout_split(X, y, test_size=0.15)\n",
    "print(f\"Train: {len(train_idx)} filas, Hold-out: {len(hold_idx)} filas\")\n",
    "\n",
    "# Folds multilabel\n",
    "folds = make_folds(train_idx, y, n_splits=N_SPLITS)\n",
    "print(\"Número de folds:\", len(folds))"
   ]
  },
  {
   "cell_type": "code",
   "execution_count": 7,
   "id": "bd3a323b-f0b7-4ced-b52d-6aad49a6f4a1",
   "metadata": {},
   "outputs": [],
   "source": [
    "import warnings\n",
    "# Oculta TODOS los FutureWarning cuyo módulo empiece por \"sklearn.\"\n",
    "warnings.filterwarnings(\n",
    "    \"ignore\",\n",
    "    category=FutureWarning,\n",
    "    module=r\"sklearn\\..*\"\n",
    ")"
   ]
  },
  {
   "cell_type": "markdown",
   "id": "3b92b77f-1524-474a-9a32-f306f7113093",
   "metadata": {},
   "source": [
    "## 3. Pipeline y estimador"
   ]
  },
  {
   "cell_type": "code",
   "execution_count": 9,
   "id": "b0d26227-3f2c-4b70-8d6c-e89a2cabb039",
   "metadata": {},
   "outputs": [
    {
     "name": "stdout",
     "output_type": "stream",
     "text": [
      "AUC media por fold:\n",
      "    fold  mean_auc\n",
      "0     0  0.882675\n",
      "1     1  0.876933\n",
      "2     2  0.881184\n",
      "3     3  0.877993\n",
      "4     4  0.875472\n",
      "AUC global: 0.8788513693325003\n",
      "Modelo: lgbm\n"
     ]
    }
   ],
   "source": [
    "from src.models.training import run_cv\n",
    "\n",
    "MODEL_NAME = \"lgbm\"   #  \"lgbm\", \"rf\", \"logreg\"\n",
    "cv_df = run_cv(model_name=MODEL_NAME, n_splits=5, do_oversample=True)\n",
    "\n",
    "# Pesos por clase\n",
    "pos_weights = compute_pos_weights(y[train_idx])\n",
    "\n",
    "# Crear pipeline y modelo\n",
    "preprocessor = build_preprocessing_pipeline()\n",
    "\n",
    "estimator = build_estimator(MODEL_NAME, pos_weights)\n",
    "print(\"Modelo:\", MODEL_NAME)"
   ]
  },
  {
   "cell_type": "markdown",
   "id": "b8e58e66-cf2c-4410-9c7f-d8b30daf1208",
   "metadata": {},
   "source": [
    "## 4. Validación cruzada multilabel"
   ]
  },
  {
   "cell_type": "code",
   "execution_count": 21,
   "id": "2fa23255-1cfe-47a9-91f6-9fc3610d4ae3",
   "metadata": {},
   "outputs": [
    {
     "name": "stderr",
     "output_type": "stream",
     "text": [
      "C:\\Users\\ignag\\anaconda3\\envs\\TFG\\lib\\site-packages\\sklearn\\utils\\validation.py:2739: UserWarning: X does not have valid feature names, but LGBMClassifier was fitted with feature names\n",
      "  warnings.warn(\n",
      "C:\\Users\\ignag\\anaconda3\\envs\\TFG\\lib\\site-packages\\sklearn\\utils\\validation.py:2739: UserWarning: X does not have valid feature names, but LGBMClassifier was fitted with feature names\n",
      "  warnings.warn(\n",
      "C:\\Users\\ignag\\anaconda3\\envs\\TFG\\lib\\site-packages\\sklearn\\utils\\validation.py:2739: UserWarning: X does not have valid feature names, but LGBMClassifier was fitted with feature names\n",
      "  warnings.warn(\n",
      "C:\\Users\\ignag\\anaconda3\\envs\\TFG\\lib\\site-packages\\sklearn\\utils\\validation.py:2739: UserWarning: X does not have valid feature names, but LGBMClassifier was fitted with feature names\n",
      "  warnings.warn(\n",
      "C:\\Users\\ignag\\anaconda3\\envs\\TFG\\lib\\site-packages\\sklearn\\utils\\validation.py:2739: UserWarning: X does not have valid feature names, but LGBMClassifier was fitted with feature names\n",
      "  warnings.warn(\n",
      "C:\\Users\\ignag\\anaconda3\\envs\\TFG\\lib\\site-packages\\sklearn\\utils\\validation.py:2739: UserWarning: X does not have valid feature names, but LGBMClassifier was fitted with feature names\n",
      "  warnings.warn(\n",
      "C:\\Users\\ignag\\anaconda3\\envs\\TFG\\lib\\site-packages\\sklearn\\utils\\validation.py:2739: UserWarning: X does not have valid feature names, but LGBMClassifier was fitted with feature names\n",
      "  warnings.warn(\n",
      "C:\\Users\\ignag\\anaconda3\\envs\\TFG\\lib\\site-packages\\sklearn\\utils\\validation.py:2739: UserWarning: X does not have valid feature names, but LGBMClassifier was fitted with feature names\n",
      "  warnings.warn(\n",
      "C:\\Users\\ignag\\anaconda3\\envs\\TFG\\lib\\site-packages\\sklearn\\utils\\validation.py:2739: UserWarning: X does not have valid feature names, but LGBMClassifier was fitted with feature names\n",
      "  warnings.warn(\n",
      "C:\\Users\\ignag\\anaconda3\\envs\\TFG\\lib\\site-packages\\sklearn\\utils\\validation.py:2739: UserWarning: X does not have valid feature names, but LGBMClassifier was fitted with feature names\n",
      "  warnings.warn(\n",
      "C:\\Users\\ignag\\anaconda3\\envs\\TFG\\lib\\site-packages\\sklearn\\utils\\validation.py:2739: UserWarning: X does not have valid feature names, but LGBMClassifier was fitted with feature names\n",
      "  warnings.warn(\n",
      "C:\\Users\\ignag\\anaconda3\\envs\\TFG\\lib\\site-packages\\sklearn\\utils\\validation.py:2739: UserWarning: X does not have valid feature names, but LGBMClassifier was fitted with feature names\n",
      "  warnings.warn(\n",
      "C:\\Users\\ignag\\anaconda3\\envs\\TFG\\lib\\site-packages\\sklearn\\utils\\validation.py:2739: UserWarning: X does not have valid feature names, but LGBMClassifier was fitted with feature names\n",
      "  warnings.warn(\n",
      "C:\\Users\\ignag\\anaconda3\\envs\\TFG\\lib\\site-packages\\sklearn\\utils\\validation.py:2739: UserWarning: X does not have valid feature names, but LGBMClassifier was fitted with feature names\n",
      "  warnings.warn(\n",
      "C:\\Users\\ignag\\anaconda3\\envs\\TFG\\lib\\site-packages\\sklearn\\utils\\validation.py:2739: UserWarning: X does not have valid feature names, but LGBMClassifier was fitted with feature names\n",
      "  warnings.warn(\n",
      "C:\\Users\\ignag\\anaconda3\\envs\\TFG\\lib\\site-packages\\sklearn\\utils\\validation.py:2739: UserWarning: X does not have valid feature names, but LGBMClassifier was fitted with feature names\n",
      "  warnings.warn(\n",
      "C:\\Users\\ignag\\anaconda3\\envs\\TFG\\lib\\site-packages\\sklearn\\utils\\validation.py:2739: UserWarning: X does not have valid feature names, but LGBMClassifier was fitted with feature names\n",
      "  warnings.warn(\n",
      "C:\\Users\\ignag\\anaconda3\\envs\\TFG\\lib\\site-packages\\sklearn\\utils\\validation.py:2739: UserWarning: X does not have valid feature names, but LGBMClassifier was fitted with feature names\n",
      "  warnings.warn(\n",
      "C:\\Users\\ignag\\anaconda3\\envs\\TFG\\lib\\site-packages\\sklearn\\utils\\validation.py:2739: UserWarning: X does not have valid feature names, but LGBMClassifier was fitted with feature names\n",
      "  warnings.warn(\n",
      "C:\\Users\\ignag\\anaconda3\\envs\\TFG\\lib\\site-packages\\sklearn\\utils\\validation.py:2739: UserWarning: X does not have valid feature names, but LGBMClassifier was fitted with feature names\n",
      "  warnings.warn(\n",
      "C:\\Users\\ignag\\anaconda3\\envs\\TFG\\lib\\site-packages\\sklearn\\utils\\validation.py:2739: UserWarning: X does not have valid feature names, but LGBMClassifier was fitted with feature names\n",
      "  warnings.warn(\n",
      "C:\\Users\\ignag\\anaconda3\\envs\\TFG\\lib\\site-packages\\sklearn\\utils\\validation.py:2739: UserWarning: X does not have valid feature names, but LGBMClassifier was fitted with feature names\n",
      "  warnings.warn(\n",
      "C:\\Users\\ignag\\anaconda3\\envs\\TFG\\lib\\site-packages\\sklearn\\utils\\validation.py:2739: UserWarning: X does not have valid feature names, but LGBMClassifier was fitted with feature names\n",
      "  warnings.warn(\n",
      "C:\\Users\\ignag\\anaconda3\\envs\\TFG\\lib\\site-packages\\sklearn\\utils\\validation.py:2739: UserWarning: X does not have valid feature names, but LGBMClassifier was fitted with feature names\n",
      "  warnings.warn(\n",
      "C:\\Users\\ignag\\anaconda3\\envs\\TFG\\lib\\site-packages\\sklearn\\utils\\validation.py:2739: UserWarning: X does not have valid feature names, but LGBMClassifier was fitted with feature names\n",
      "  warnings.warn(\n",
      "C:\\Users\\ignag\\anaconda3\\envs\\TFG\\lib\\site-packages\\sklearn\\utils\\validation.py:2739: UserWarning: X does not have valid feature names, but LGBMClassifier was fitted with feature names\n",
      "  warnings.warn(\n",
      "C:\\Users\\ignag\\anaconda3\\envs\\TFG\\lib\\site-packages\\sklearn\\utils\\validation.py:2739: UserWarning: X does not have valid feature names, but LGBMClassifier was fitted with feature names\n",
      "  warnings.warn(\n",
      "C:\\Users\\ignag\\anaconda3\\envs\\TFG\\lib\\site-packages\\sklearn\\utils\\validation.py:2739: UserWarning: X does not have valid feature names, but LGBMClassifier was fitted with feature names\n",
      "  warnings.warn(\n",
      "C:\\Users\\ignag\\anaconda3\\envs\\TFG\\lib\\site-packages\\sklearn\\utils\\validation.py:2739: UserWarning: X does not have valid feature names, but LGBMClassifier was fitted with feature names\n",
      "  warnings.warn(\n",
      "C:\\Users\\ignag\\anaconda3\\envs\\TFG\\lib\\site-packages\\sklearn\\utils\\validation.py:2739: UserWarning: X does not have valid feature names, but LGBMClassifier was fitted with feature names\n",
      "  warnings.warn(\n",
      "C:\\Users\\ignag\\anaconda3\\envs\\TFG\\lib\\site-packages\\sklearn\\utils\\validation.py:2739: UserWarning: X does not have valid feature names, but LGBMClassifier was fitted with feature names\n",
      "  warnings.warn(\n",
      "C:\\Users\\ignag\\anaconda3\\envs\\TFG\\lib\\site-packages\\sklearn\\utils\\validation.py:2739: UserWarning: X does not have valid feature names, but LGBMClassifier was fitted with feature names\n",
      "  warnings.warn(\n",
      "C:\\Users\\ignag\\anaconda3\\envs\\TFG\\lib\\site-packages\\sklearn\\utils\\validation.py:2739: UserWarning: X does not have valid feature names, but LGBMClassifier was fitted with feature names\n",
      "  warnings.warn(\n",
      "C:\\Users\\ignag\\anaconda3\\envs\\TFG\\lib\\site-packages\\sklearn\\utils\\validation.py:2739: UserWarning: X does not have valid feature names, but LGBMClassifier was fitted with feature names\n",
      "  warnings.warn(\n",
      "C:\\Users\\ignag\\anaconda3\\envs\\TFG\\lib\\site-packages\\sklearn\\utils\\validation.py:2739: UserWarning: X does not have valid feature names, but LGBMClassifier was fitted with feature names\n",
      "  warnings.warn(\n"
     ]
    }
   ],
   "source": [
    "cv_results = []\n",
    "for i, val_idx in enumerate(folds):\n",
    "    # Índices de entrenamiento de este fold\n",
    "    tr_idx = np.setdiff1d(train_idx, val_idx)\n",
    "    X_tr_raw, y_tr = X.iloc[tr_idx], y[tr_idx]\n",
    "    X_va_raw, y_va = X.iloc[val_idx], y[val_idx]\n",
    "\n",
    "    # Preprocesamiento\n",
    "    X_tr = preprocessor.fit_transform(X_tr_raw)\n",
    "    X_va = preprocessor.transform(X_va_raw)\n",
    "\n",
    "    # Entrenamiento y predicción\n",
    "    if isinstance(estimator, list):\n",
    "        y_pred_cols = []\n",
    "        for k, clf in enumerate(estimator):\n",
    "            clf.fit(X_tr, y_tr[:, k])\n",
    "            y_pred_cols.append(clf.predict_proba(X_va)[:,1])\n",
    "        y_pred = np.vstack(y_pred_cols).T\n",
    "    else:\n",
    "        estimator.fit(X_tr, y_tr)\n",
    "        proba = estimator.predict_proba(X_va)\n",
    "        y_pred = np.vstack([p[:,1] for p in proba]).T\n",
    "\n",
    "    # Métricas\n",
    "    metrics = roc_auc_by_class(y_va, y_pred)\n",
    "    metrics['fold'] = i\n",
    "    cv_results.append(metrics)\n",
    "\n",
    "# DataFrame de resultados\n",
    "df_cv = pd.DataFrame(cv_results)\n",
    "df_cv.to_csv(ROOT_DIR / 'reports/tables' / f'{MODEL_NAME}_cv_metrics.csv', index=False)"
   ]
  },
  {
   "cell_type": "markdown",
   "id": "ea28ac37-a87b-4e7d-a2fa-5bf2b2843e44",
   "metadata": {},
   "source": [
    "## 5. Resultados y visualización"
   ]
  },
  {
   "cell_type": "code",
   "execution_count": null,
   "id": "b3c83e9c-1dd0-41b6-97e7-8c86c8475e16",
   "metadata": {},
   "outputs": [],
   "source": [
    "# Mostrar resultados\n",
    "display(df_cv)\n",
    "\n",
    "# Media global\n",
    "mean_auc = df_cv['mean_auc'].mean()\n",
    "print(f\"Media global ROC-AUC: {mean_auc:.4f}\")\n",
    "\n",
    "# Boxplot de AUC por clase\n",
    "plt.figure(figsize=(8,5))\n",
    "classes = [c for c in df_cv.columns if c not in ['fold','mean_auc']]\n",
    "df_cv[classes].boxplot(rot=45)\n",
    "plt.title(f\"Distribución de ROC-AUC por clase ({MODEL_NAME})\")\n",
    "plt.ylabel('ROC-AUC')\n",
    "plt.tight_layout()\n",
    "plt.show()"
   ]
  },
  {
   "cell_type": "markdown",
   "id": "88cc873a-f2c2-43a8-9c5a-083ca25ba84a",
   "metadata": {},
   "source": [
    "## 6. Entrenamiento final y guardado de modelos"
   ]
  },
  {
   "cell_type": "code",
   "execution_count": null,
   "id": "22091960-456d-499e-bb6d-893adb697350",
   "metadata": {},
   "outputs": [],
   "source": [
    "# Preprocesador entrenado con todo el train_rem (85%)\n",
    "X_rem = X.iloc[train_idx]\n",
    "y_rem = y[train_idx]\n",
    "X_rem_p = preprocessor.fit_transform(X_rem)\n",
    "\n",
    "# Entrenar estimador final y guardar\n",
    "if isinstance(estimator, list):\n",
    "    for k, clf in enumerate(estimator):\n",
    "        clf.fit(X_rem_p, y_rem[:,k])\n",
    "        joblib.dump(clf, ROOT_DIR / 'models' / f'{MODEL_NAME}_label{k}_final.pkl')\n",
    "else:\n",
    "    estimator.fit(X_rem_p, y_rem)\n",
    "    joblib.dump(estimator, ROOT_DIR / 'models' / f'{MODEL_NAME}_final.pkl')\n",
    "\n",
    "# Guardar preprocesador final\n",
    "joblib.dump(preprocessor, ROOT_DIR / 'models' / 'preprocessor_final.pkl')\n",
    "\n",
    "print(\"Modelos finales guardados en 'models/'\")"
   ]
  },
  {
   "cell_type": "code",
   "execution_count": null,
   "id": "8eaaf1ed-94b4-4c83-885f-7715c42472ff",
   "metadata": {},
   "outputs": [],
   "source": []
  }
 ],
 "metadata": {
  "kernelspec": {
   "display_name": "Python [conda env:TFG]",
   "language": "python",
   "name": "conda-env-TFG-py"
  },
  "language_info": {
   "codemirror_mode": {
    "name": "ipython",
    "version": 3
   },
   "file_extension": ".py",
   "mimetype": "text/x-python",
   "name": "python",
   "nbconvert_exporter": "python",
   "pygments_lexer": "ipython3",
   "version": "3.9.21"
  }
 },
 "nbformat": 4,
 "nbformat_minor": 5
}
