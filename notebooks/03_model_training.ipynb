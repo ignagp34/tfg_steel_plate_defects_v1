{
 "cells": [
  {
   "cell_type": "markdown",
   "id": "7184458f-c6d6-4939-9739-96c4d19e390c",
   "metadata": {},
   "source": [
    "## 03. Model Training\n",
    "**Objetivo**: Entrenar y evaluar los modelos (`rf`, `logreg`, `lgbm`) usando validación cruzada multilabel, medir ROC-AUC por clase y guardar artefactos. "
   ]
  },
  {
   "cell_type": "code",
   "execution_count": 1,
   "id": "039009d4-3892-4596-8749-52054d7bb93c",
   "metadata": {},
   "outputs": [],
   "source": [
    "import sys, os\n",
    "from pathlib import Path\n",
    "import joblib\n",
    "import pandas as pd\n",
    "import numpy as np\n",
    "import matplotlib.pyplot as plt\n",
    "from sklearn.metrics import roc_auc_score"
   ]
  },
  {
   "cell_type": "code",
   "execution_count": 3,
   "id": "ad9ddcd3-6930-42f3-94c0-a5051c480ae4",
   "metadata": {},
   "outputs": [
    {
     "name": "stdout",
     "output_type": "stream",
     "text": [
      "C:\\Users\\ignag\\OneDrive\\Documentos\\tfg‑steel‑plate‑defects_v1\n"
     ]
    }
   ],
   "source": [
    "root = os.path.abspath(os.path.join(os.getcwd(), '..'))\n",
    "if root not in sys.path:\n",
    "    sys.path.insert(0, root)\n",
    "print(root)"
   ]
  },
  {
   "cell_type": "code",
   "execution_count": 5,
   "id": "d96eff35-c468-49ff-95fe-fc4be0d88f8c",
   "metadata": {},
   "outputs": [],
   "source": [
    "# Añade src al path para importar módulos propios\n",
    "from src import ROOT_DIR\n",
    "from src.pipeline.preprocessing import build_preprocessing_pipeline\n",
    "from src.models.training import (\n",
    "    load_data, make_holdout_split, make_folds,\n",
    "    compute_pos_weights, build_estimator, roc_auc_by_class, run_cv\n",
    ")\n",
    "\n",
    "# Parámetros\n",
    "MODEL_NAME = sys.argv[1] if len(sys.argv) > 1 else \"lgbm\"\n",
    "N_SPLITS = 5\n",
    "RANDOM_STATE = 2\n",
    "DATA_RAW = ROOT_DIR / \"data/raw/playground-series-s4e3\""
   ]
  },
  {
   "cell_type": "markdown",
   "id": "5f2e6004-5f10-4101-90a4-61129134c667",
   "metadata": {},
   "source": [
    "## 2. hold-out y folds"
   ]
  },
  {
   "cell_type": "code",
   "execution_count": 9,
   "id": "c8f42f7f-bdb2-4acf-9598-e0f552f4e25e",
   "metadata": {},
   "outputs": [
    {
     "name": "stdout",
     "output_type": "stream",
     "text": [
      "Train: 15671 filas, Hold-out: 2766 filas\n",
      "Número de folds: 5\n"
     ]
    }
   ],
   "source": [
    "# Carga X, y\n",
    "X, y = load_data()\n",
    "\n",
    "# Hold-out estratificado multilabel\n",
    "train_idx, hold_idx = make_holdout_split(X, y, test_size=0.15)\n",
    "print(f\"Train: {len(train_idx)} filas, Hold-out: {len(hold_idx)} filas\")\n",
    "\n",
    "# Folds multilabel\n",
    "folds = make_folds(train_idx, y, n_splits=N_SPLITS)\n",
    "print(\"Número de folds:\", len(folds))"
   ]
  },
  {
   "cell_type": "markdown",
   "id": "3b92b77f-1524-474a-9a32-f306f7113093",
   "metadata": {},
   "source": [
    "## 3. Pipeline y estimador"
   ]
  },
  {
   "cell_type": "code",
   "execution_count": 15,
   "id": "b0d26227-3f2c-4b70-8d6c-e89a2cabb039",
   "metadata": {},
   "outputs": [
    {
     "name": "stdout",
     "output_type": "stream",
     "text": [
      "Modelo: rf\n"
     ]
    }
   ],
   "source": [
    "from src.models.training import run_cv\n",
    "MODEL_NAME = \"rf\"   #  \"lgbm\", \"rf\", \"logreg\"\n",
    "\n",
    "# Pesos por clase\n",
    "pos_weights = compute_pos_weights(y[train_idx])\n",
    "\n",
    "# Crear pipeline y modelo\n",
    "preprocessor = build_preprocessing_pipeline()\n",
    "\n",
    "estimator = build_estimator(MODEL_NAME, pos_weights)\n",
    "print(\"Modelo:\", MODEL_NAME)"
   ]
  },
  {
   "cell_type": "markdown",
   "id": "b8e58e66-cf2c-4410-9c7f-d8b30daf1208",
   "metadata": {},
   "source": [
    "## 4. Validación cruzada multilabel"
   ]
  },
  {
   "cell_type": "code",
   "execution_count": 17,
   "id": "2fa23255-1cfe-47a9-91f6-9fc3610d4ae3",
   "metadata": {},
   "outputs": [],
   "source": [
    "cv_results = []\n",
    "for i, val_idx in enumerate(folds):\n",
    "    # Índices de entrenamiento de este fold\n",
    "    tr_idx = np.setdiff1d(train_idx, val_idx)\n",
    "    X_tr_raw, y_tr = X.iloc[tr_idx], y[tr_idx]\n",
    "    X_va_raw, y_va = X.iloc[val_idx], y[val_idx]\n",
    "\n",
    "    # Preprocesamiento\n",
    "    APPLY_PREPROCESS = True       \n",
    "    if APPLY_PREPROCESS:\n",
    "        X_tr_arr = preprocessor.fit_transform(X_tr_raw)\n",
    "        X_va_arr = preprocessor.transform(X_va_raw)\n",
    "        feature_names = preprocessor.get_feature_names_out()\n",
    "    else:                            \n",
    "        X_tr_arr = X_tr_raw.values \n",
    "        X_va_arr = X_va_raw.values\n",
    "        feature_names = X_tr_raw.columns\n",
    "    \n",
    "    \n",
    "    X_tr = pd.DataFrame(X_tr_arr, columns=feature_names)\n",
    "    X_va = pd.DataFrame(X_va_arr, columns=feature_names)\n",
    "    # Entrenamiento y predicción\n",
    "    if isinstance(estimator, list):\n",
    "        y_pred_cols = []\n",
    "        for k, clf in enumerate(estimator):\n",
    "            clf.fit(X_tr, y_tr[:, k])\n",
    "            y_pred_cols.append(clf.predict_proba(X_va)[:,1])\n",
    "        y_pred = np.vstack(y_pred_cols).T\n",
    "    else:\n",
    "        estimator.fit(X_tr, y_tr)\n",
    "        proba = estimator.predict_proba(X_va)[:, 1]\n",
    "        y_pred = np.vstack([p[:,1] for p in proba]).T\n",
    "\n",
    "    # Métricas\n",
    "    metrics = roc_auc_by_class(y_va, y_pred)\n",
    "    metrics['fold'] = i\n",
    "    cv_results.append(metrics)\n",
    "\n",
    "# DataFrame de resultados\n",
    "df_cv = pd.DataFrame(cv_results)\n",
    "df_cv.to_csv(ROOT_DIR / 'reports/tables' / f'{MODEL_NAME}_cv_metrics.csv', index=False)"
   ]
  },
  {
   "cell_type": "code",
   "execution_count": null,
   "id": "52709574-6146-4d87-bda2-3db1967e8bb4",
   "metadata": {},
   "outputs": [],
   "source": [
    "## 4. oversample"
   ]
  },
  {
   "cell_type": "code",
   "execution_count": 13,
   "id": "05818db3-193e-4d1f-803f-bcd90a7c72c1",
   "metadata": {},
   "outputs": [
    {
     "name": "stdout",
     "output_type": "stream",
     "text": [
      "AUC media por fold:\n",
      "    fold  mean_auc\n",
      "0     0  0.873479\n",
      "1     1  0.874099\n",
      "2     2  0.874257\n",
      "3     3  0.879905\n",
      "4     4  0.876246\n",
      "AUC global: 0.8755972121740137\n"
     ]
    }
   ],
   "source": [
    "cv_df = run_cv(model_name=\"rf\", n_splits=5, do_oversample=True)"
   ]
  },
  {
   "cell_type": "markdown",
   "id": "ea28ac37-a87b-4e7d-a2fa-5bf2b2843e44",
   "metadata": {},
   "source": [
    "## 5. Resultados y visualización"
   ]
  },
  {
   "cell_type": "code",
   "execution_count": 15,
   "id": "b3c83e9c-1dd0-41b6-97e7-8c86c8475e16",
   "metadata": {},
   "outputs": [
    {
     "data": {
      "text/html": [
       "<div>\n",
       "<style scoped>\n",
       "    .dataframe tbody tr th:only-of-type {\n",
       "        vertical-align: middle;\n",
       "    }\n",
       "\n",
       "    .dataframe tbody tr th {\n",
       "        vertical-align: top;\n",
       "    }\n",
       "\n",
       "    .dataframe thead th {\n",
       "        text-align: right;\n",
       "    }\n",
       "</style>\n",
       "<table border=\"1\" class=\"dataframe\">\n",
       "  <thead>\n",
       "    <tr style=\"text-align: right;\">\n",
       "      <th></th>\n",
       "      <th>Pastry</th>\n",
       "      <th>Z_Scratch</th>\n",
       "      <th>K_Scatch</th>\n",
       "      <th>Stains</th>\n",
       "      <th>Dirtiness</th>\n",
       "      <th>Bumps</th>\n",
       "      <th>Other_Faults</th>\n",
       "      <th>mean_auc</th>\n",
       "      <th>fold</th>\n",
       "    </tr>\n",
       "  </thead>\n",
       "  <tbody>\n",
       "    <tr>\n",
       "      <th>0</th>\n",
       "      <td>0.841533</td>\n",
       "      <td>0.934057</td>\n",
       "      <td>0.981749</td>\n",
       "      <td>0.982008</td>\n",
       "      <td>0.856843</td>\n",
       "      <td>0.798070</td>\n",
       "      <td>0.686215</td>\n",
       "      <td>0.868639</td>\n",
       "      <td>0</td>\n",
       "    </tr>\n",
       "    <tr>\n",
       "      <th>1</th>\n",
       "      <td>0.854790</td>\n",
       "      <td>0.941291</td>\n",
       "      <td>0.983469</td>\n",
       "      <td>0.990582</td>\n",
       "      <td>0.864688</td>\n",
       "      <td>0.773484</td>\n",
       "      <td>0.685700</td>\n",
       "      <td>0.870572</td>\n",
       "      <td>1</td>\n",
       "    </tr>\n",
       "    <tr>\n",
       "      <th>2</th>\n",
       "      <td>0.847909</td>\n",
       "      <td>0.938722</td>\n",
       "      <td>0.985647</td>\n",
       "      <td>0.991524</td>\n",
       "      <td>0.833317</td>\n",
       "      <td>0.796257</td>\n",
       "      <td>0.684102</td>\n",
       "      <td>0.868211</td>\n",
       "      <td>2</td>\n",
       "    </tr>\n",
       "    <tr>\n",
       "      <th>3</th>\n",
       "      <td>0.846706</td>\n",
       "      <td>0.953352</td>\n",
       "      <td>0.983414</td>\n",
       "      <td>0.987436</td>\n",
       "      <td>0.874077</td>\n",
       "      <td>0.783374</td>\n",
       "      <td>0.689849</td>\n",
       "      <td>0.874030</td>\n",
       "      <td>3</td>\n",
       "    </tr>\n",
       "    <tr>\n",
       "      <th>4</th>\n",
       "      <td>0.826064</td>\n",
       "      <td>0.935978</td>\n",
       "      <td>0.980353</td>\n",
       "      <td>0.991186</td>\n",
       "      <td>0.903240</td>\n",
       "      <td>0.772771</td>\n",
       "      <td>0.681433</td>\n",
       "      <td>0.870147</td>\n",
       "      <td>4</td>\n",
       "    </tr>\n",
       "  </tbody>\n",
       "</table>\n",
       "</div>"
      ],
      "text/plain": [
       "     Pastry  Z_Scratch  K_Scatch    Stains  Dirtiness     Bumps  Other_Faults  \\\n",
       "0  0.841533   0.934057  0.981749  0.982008   0.856843  0.798070      0.686215   \n",
       "1  0.854790   0.941291  0.983469  0.990582   0.864688  0.773484      0.685700   \n",
       "2  0.847909   0.938722  0.985647  0.991524   0.833317  0.796257      0.684102   \n",
       "3  0.846706   0.953352  0.983414  0.987436   0.874077  0.783374      0.689849   \n",
       "4  0.826064   0.935978  0.980353  0.991186   0.903240  0.772771      0.681433   \n",
       "\n",
       "   mean_auc  fold  \n",
       "0  0.868639     0  \n",
       "1  0.870572     1  \n",
       "2  0.868211     2  \n",
       "3  0.874030     3  \n",
       "4  0.870147     4  "
      ]
     },
     "metadata": {},
     "output_type": "display_data"
    },
    {
     "name": "stdout",
     "output_type": "stream",
     "text": [
      "Media global ROC-AUC: 0.8703\n"
     ]
    },
    {
     "data": {
      "image/png": "[encoded data removed]",
      "text/plain": [
       "<Figure size 800x500 with 1 Axes>"
      ]
     },
     "metadata": {},
     "output_type": "display_data"
    }
   ],
   "source": [
    "# Mostrar resultados\n",
    "display(df_cv)\n",
    "\n",
    "# Media global\n",
    "mean_auc = df_cv['mean_auc'].mean()\n",
    "print(f\"Media global ROC-AUC: {mean_auc:.4f}\")\n",
    "\n",
    "# Boxplot de AUC por clase\n",
    "plt.figure(figsize=(8,5))\n",
    "classes = [c for c in df_cv.columns if c not in ['fold','mean_auc']]\n",
    "df_cv[classes].boxplot(rot=45)\n",
    "plt.title(f\"Distribución de ROC-AUC por clase ({MODEL_NAME})\")\n",
    "plt.ylabel('ROC-AUC')\n",
    "plt.tight_layout()\n",
    "plt.show()"
   ]
  },
  {
   "cell_type": "code",
   "execution_count": 17,
   "id": "ec207837-08d1-49f5-b70a-8f932a269363",
   "metadata": {},
   "outputs": [
    {
     "data": {
      "text/html": [
       "<div>\n",
       "<style scoped>\n",
       "    .dataframe tbody tr th:only-of-type {\n",
       "        vertical-align: middle;\n",
       "    }\n",
       "\n",
       "    .dataframe tbody tr th {\n",
       "        vertical-align: top;\n",
       "    }\n",
       "\n",
       "    .dataframe thead th {\n",
       "        text-align: right;\n",
       "    }\n",
       "</style>\n",
       "<table border=\"1\" class=\"dataframe\">\n",
       "  <thead>\n",
       "    <tr style=\"text-align: right;\">\n",
       "      <th></th>\n",
       "      <th>Pastry</th>\n",
       "      <th>Z_Scratch</th>\n",
       "      <th>K_Scatch</th>\n",
       "      <th>Stains</th>\n",
       "      <th>Dirtiness</th>\n",
       "      <th>Bumps</th>\n",
       "      <th>Other_Faults</th>\n",
       "      <th>mean_auc</th>\n",
       "      <th>fold</th>\n",
       "    </tr>\n",
       "  </thead>\n",
       "  <tbody>\n",
       "    <tr>\n",
       "      <th>0</th>\n",
       "      <td>0.849017</td>\n",
       "      <td>0.942108</td>\n",
       "      <td>0.982191</td>\n",
       "      <td>0.982974</td>\n",
       "      <td>0.871877</td>\n",
       "      <td>0.806827</td>\n",
       "      <td>0.679356</td>\n",
       "      <td>0.873479</td>\n",
       "      <td>0</td>\n",
       "    </tr>\n",
       "    <tr>\n",
       "      <th>1</th>\n",
       "      <td>0.858285</td>\n",
       "      <td>0.948925</td>\n",
       "      <td>0.983380</td>\n",
       "      <td>0.991672</td>\n",
       "      <td>0.864938</td>\n",
       "      <td>0.782880</td>\n",
       "      <td>0.688613</td>\n",
       "      <td>0.874099</td>\n",
       "      <td>1</td>\n",
       "    </tr>\n",
       "    <tr>\n",
       "      <th>2</th>\n",
       "      <td>0.858209</td>\n",
       "      <td>0.945234</td>\n",
       "      <td>0.985192</td>\n",
       "      <td>0.993010</td>\n",
       "      <td>0.844278</td>\n",
       "      <td>0.804348</td>\n",
       "      <td>0.689530</td>\n",
       "      <td>0.874257</td>\n",
       "      <td>2</td>\n",
       "    </tr>\n",
       "    <tr>\n",
       "      <th>3</th>\n",
       "      <td>0.853570</td>\n",
       "      <td>0.957216</td>\n",
       "      <td>0.984322</td>\n",
       "      <td>0.990675</td>\n",
       "      <td>0.884196</td>\n",
       "      <td>0.796830</td>\n",
       "      <td>0.692527</td>\n",
       "      <td>0.879905</td>\n",
       "      <td>3</td>\n",
       "    </tr>\n",
       "    <tr>\n",
       "      <th>4</th>\n",
       "      <td>0.838659</td>\n",
       "      <td>0.941848</td>\n",
       "      <td>0.981066</td>\n",
       "      <td>0.992820</td>\n",
       "      <td>0.908123</td>\n",
       "      <td>0.778918</td>\n",
       "      <td>0.692287</td>\n",
       "      <td>0.876246</td>\n",
       "      <td>4</td>\n",
       "    </tr>\n",
       "  </tbody>\n",
       "</table>\n",
       "</div>"
      ],
      "text/plain": [
       "     Pastry  Z_Scratch  K_Scatch    Stains  Dirtiness     Bumps  Other_Faults  \\\n",
       "0  0.849017   0.942108  0.982191  0.982974   0.871877  0.806827      0.679356   \n",
       "1  0.858285   0.948925  0.983380  0.991672   0.864938  0.782880      0.688613   \n",
       "2  0.858209   0.945234  0.985192  0.993010   0.844278  0.804348      0.689530   \n",
       "3  0.853570   0.957216  0.984322  0.990675   0.884196  0.796830      0.692527   \n",
       "4  0.838659   0.941848  0.981066  0.992820   0.908123  0.778918      0.692287   \n",
       "\n",
       "   mean_auc  fold  \n",
       "0  0.873479     0  \n",
       "1  0.874099     1  \n",
       "2  0.874257     2  \n",
       "3  0.879905     3  \n",
       "4  0.876246     4  "
      ]
     },
     "metadata": {},
     "output_type": "display_data"
    },
    {
     "name": "stdout",
     "output_type": "stream",
     "text": [
      "Media global ROC-AUC: 0.8756\n"
     ]
    },
    {
     "data": {
      "image/png": "[encoded data removed]",
      "text/plain": [
       "<Figure size 800x500 with 1 Axes>"
      ]
     },
     "metadata": {},
     "output_type": "display_data"
    }
   ],
   "source": [
    "# Mostrar resultados\n",
    "display(cv_df)\n",
    "\n",
    "# Media global\n",
    "mean_auc = cv_df['mean_auc'].mean()\n",
    "print(f\"Media global ROC-AUC: {mean_auc:.4f}\")\n",
    "\n",
    "# Boxplot de AUC por clase\n",
    "plt.figure(figsize=(8,5))\n",
    "classes = [c for c in df_cv.columns if c not in ['fold','mean_auc']]\n",
    "df_cv[classes].boxplot(rot=45)\n",
    "plt.title(f\"Distribución de ROC-AUC por clase oversampling ({MODEL_NAME})\")\n",
    "plt.ylabel('ROC-AUC')\n",
    "plt.tight_layout()\n",
    "plt.show()"
   ]
  },
  {
   "cell_type": "markdown",
   "id": "88cc873a-f2c2-43a8-9c5a-083ca25ba84a",
   "metadata": {},
   "source": [
    "## 6. Entrenamiento final y guardado de modelos"
   ]
  },
  {
   "cell_type": "code",
   "execution_count": 11,
   "id": "22091960-456d-499e-bb6d-893adb697350",
   "metadata": {},
   "outputs": [
    {
     "ename": "NameError",
     "evalue": "name 'preprocessor' is not defined",
     "output_type": "error",
     "traceback": [
      "\u001b[1;31m---------------------------------------------------------------------------\u001b[0m",
      "\u001b[1;31mNameError\u001b[0m                                 Traceback (most recent call last)",
      "Cell \u001b[1;32mIn[11], line 4\u001b[0m\n\u001b[0;32m      2\u001b[0m X_rem \u001b[38;5;241m=\u001b[39m X\u001b[38;5;241m.\u001b[39miloc[train_idx]\n\u001b[0;32m      3\u001b[0m y_rem \u001b[38;5;241m=\u001b[39m y[train_idx]\n\u001b[1;32m----> 4\u001b[0m X_rem_p \u001b[38;5;241m=\u001b[39m \u001b[43mpreprocessor\u001b[49m\u001b[38;5;241m.\u001b[39mfit_transform(X_rem)\n\u001b[0;32m      6\u001b[0m \u001b[38;5;66;03m# Entrenar estimador final y guardar\u001b[39;00m\n\u001b[0;32m      7\u001b[0m \u001b[38;5;28;01mif\u001b[39;00m \u001b[38;5;28misinstance\u001b[39m(estimator, \u001b[38;5;28mlist\u001b[39m):\n",
      "\u001b[1;31mNameError\u001b[0m: name 'preprocessor' is not defined"
     ]
    }
   ],
   "source": [
    "# Preprocesador entrenado con todo el train_rem (85%)\n",
    "X_rem = X.iloc[train_idx]\n",
    "y_rem = y[train_idx]\n",
    "X_rem_p = preprocessor.fit_transform(X_rem)\n",
    "\n",
    "# Entrenar estimador final y guardar\n",
    "if isinstance(estimator, list):\n",
    "    for k, clf in enumerate(estimator):\n",
    "        clf.fit(X_rem_p, y_rem[:,k])\n",
    "        joblib.dump(clf, ROOT_DIR / 'models' / '03_Notebook' / f'{MODEL_NAME}_label{k}_final.pkl')\n",
    "else:\n",
    "    estimator.fit(X_rem_p, y_rem)\n",
    "    joblib.dump(estimator, ROOT_DIR / 'models' / '03_Notebook' / f'{MODEL_NAME}_final.pkl')\n",
    "\n",
    "# Guardar preprocesador final\n",
    "joblib.dump(preprocessor, ROOT_DIR / 'models' / '03_Notebook' / 'preprocessor' / 'preprocessor_final.pkl')\n",
    "\n",
    "print(\"Modelos finales guardados en 'models/03_Notebook'\")"
   ]
  },
  {
   "cell_type": "code",
   "execution_count": 17,
   "id": "29acac6e-69b1-4458-abc9-2de15b939f45",
   "metadata": {},
   "outputs": [
    {
     "data": {
      "text/html": [
       "<div>\n",
       "<style scoped>\n",
       "    .dataframe tbody tr th:only-of-type {\n",
       "        vertical-align: middle;\n",
       "    }\n",
       "\n",
       "    .dataframe tbody tr th {\n",
       "        vertical-align: top;\n",
       "    }\n",
       "\n",
       "    .dataframe thead th {\n",
       "        text-align: right;\n",
       "    }\n",
       "</style>\n",
       "<table border=\"1\" class=\"dataframe\">\n",
       "  <thead>\n",
       "    <tr style=\"text-align: right;\">\n",
       "      <th></th>\n",
       "      <th>positives</th>\n",
       "      <th>percent</th>\n",
       "    </tr>\n",
       "  </thead>\n",
       "  <tbody>\n",
       "    <tr>\n",
       "      <th>Bumps</th>\n",
       "      <td>4606</td>\n",
       "      <td>24.917501</td>\n",
       "    </tr>\n",
       "    <tr>\n",
       "      <th>Dirtiness</th>\n",
       "      <td>466</td>\n",
       "      <td>2.520963</td>\n",
       "    </tr>\n",
       "    <tr>\n",
       "      <th>K_Scatch</th>\n",
       "      <td>3261</td>\n",
       "      <td>17.641331</td>\n",
       "    </tr>\n",
       "    <tr>\n",
       "      <th>Other_Faults</th>\n",
       "      <td>6312</td>\n",
       "      <td>34.146605</td>\n",
       "    </tr>\n",
       "    <tr>\n",
       "      <th>Pastry</th>\n",
       "      <td>1410</td>\n",
       "      <td>7.627806</td>\n",
       "    </tr>\n",
       "    <tr>\n",
       "      <th>Stains</th>\n",
       "      <td>547</td>\n",
       "      <td>2.959156</td>\n",
       "    </tr>\n",
       "    <tr>\n",
       "      <th>Z_Scratch</th>\n",
       "      <td>1107</td>\n",
       "      <td>5.988639</td>\n",
       "    </tr>\n",
       "  </tbody>\n",
       "</table>\n",
       "</div>"
      ],
      "text/plain": [
       "              positives    percent\n",
       "Bumps              4606  24.917501\n",
       "Dirtiness           466   2.520963\n",
       "K_Scatch           3261  17.641331\n",
       "Other_Faults       6312  34.146605\n",
       "Pastry             1410   7.627806\n",
       "Stains              547   2.959156\n",
       "Z_Scratch          1107   5.988639"
      ]
     },
     "metadata": {},
     "output_type": "display_data"
    }
   ],
   "source": [
    "# 1) Cargar el dataset bruto\n",
    "df = pd.read_csv(r\"C:\\Users\\ignag\\OneDrive\\Documentos\\tfg‑steel‑plate‑defects_v1\\data\\raw\\playground-series-s4e3\\train.csv\")\n",
    "STATS_PATH = ROOT_DIR / \"reports/tables/summary_statistics.csv\"\n",
    "# 2) Nombres de las 7 clases  →  **lista**, no tupla\n",
    "TARGETS = [\n",
    "    \"Pastry\", \"Z_Scratch\", \"K_Scatch\",\n",
    "    \"Stains\", \"Dirtiness\", \"Bumps\", \"Other_Faults\",\n",
    "]\n",
    "\n",
    "\n",
    "# 3) Llama aquí a tu función de limpieza real, si la tienes:\n",
    "from src.models.training import clean_raw_df\n",
    "df_clean = clean_raw_df(df)\n",
    "\n",
    "# 4) Separar etiquetas y features\n",
    "y_raw = df_clean[TARGETS].copy()                   # etiquetas\n",
    "X_raw = df_clean.drop(columns=TARGETS + [\"id\"])    # resto de columnas\n",
    "\n",
    "#    Para esta demo dejo el paso-through:\n",
    "X_clean, y_clean = X_raw, y_raw\n",
    "\n",
    "_\n",
    "# 5) Conteo de positivos y porcentaje sobre el total de filas\n",
    "pos_counts = (\n",
    "    y_clean.sum()\n",
    "            .to_frame(\"positives\")\n",
    "            .assign(percent=lambda d: 100 * d[\"positives\"] / len(y_clean))\n",
    "            .round({\"percent\": 6})\n",
    "            .sort_index()\n",
    ")\n",
    "\n",
    "display(pos_counts)   # Muestra la tabla formateada en Jupyter\n"
   ]
  },
  {
   "cell_type": "code",
   "execution_count": null,
   "id": "8842dace-82f1-4101-b8bf-143a530e8387",
   "metadata": {},
   "outputs": [],
   "source": []
  },
  {
   "cell_type": "code",
   "execution_count": null,
   "id": "ae9d2907-09e6-4671-81ec-c086f1806a9f",
   "metadata": {},
   "outputs": [],
   "source": []
  }
 ],
 "metadata": {
  "kernelspec": {
   "display_name": "Python [conda env:TFG]",
   "language": "python",
   "name": "conda-env-TFG-py"
  },
  "language_info": {
   "codemirror_mode": {
    "name": "ipython",
    "version": 3
   },
   "file_extension": ".py",
   "mimetype": "text/x-python",
   "name": "python",
   "nbconvert_exporter": "python",
   "pygments_lexer": "ipython3",
   "version": "3.9.21"
  }
 },
 "nbformat": 4,
 "nbformat_minor": 5
}
