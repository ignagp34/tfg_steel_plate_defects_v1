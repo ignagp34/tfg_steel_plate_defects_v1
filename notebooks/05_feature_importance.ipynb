{
 "cells": [
  {
   "cell_type": "code",
   "execution_count": 3,
   "id": "16e6fb88-e916-4dc4-9e6f-6242d5192905",
   "metadata": {},
   "outputs": [],
   "source": [
    "# ---------------------------------------------------------------\n",
    "# Top-10 variables por defecto (modelo final)\n",
    "# ---------------------------------------------------------------\n",
    "from pathlib import Path\n",
    "import joblib\n",
    "import numpy as np\n",
    "import pandas as pd\n",
    "import matplotlib.pyplot as plt\n",
    "import os, sys\n"
   ]
  },
  {
   "cell_type": "code",
   "execution_count": 5,
   "id": "3a382d4b-b4fd-48bb-beaa-671e9e39a378",
   "metadata": {},
   "outputs": [
    {
     "name": "stdout",
     "output_type": "stream",
     "text": [
      "ROOT_DIR = C:\\Users\\ignag\\OneDrive\\Documentos\\tfg_steel_plate_defects_v1\n"
     ]
    }
   ],
   "source": [
    "root = os.path.abspath(os.path.join(os.getcwd(), '..'))  # sube un nivel\n",
    "if root not in sys.path:\n",
    "    sys.path.insert(0, root)\n",
    "print(\"ROOT_DIR =\", root)"
   ]
  },
  {
   "cell_type": "code",
   "execution_count": 9,
   "id": "17db4c1d-ae3a-4d53-ada2-db9aeb7ce78e",
   "metadata": {},
   "outputs": [
    {
     "name": "stdout",
     "output_type": "stream",
     "text": [
      "\n",
      "🟢 Defecto: Pastry — Top-10 variables\n"
     ]
    },
    {
     "data": {
      "text/html": [
       "<style type=\"text/css\">\n",
       "</style>\n",
       "<table id=\"T_9e7fa\">\n",
       "  <thead>\n",
       "    <tr>\n",
       "      <th class=\"blank level0\" >&nbsp;</th>\n",
       "      <th id=\"T_9e7fa_level0_col0\" class=\"col_heading level0 col0\" >importance</th>\n",
       "    </tr>\n",
       "  </thead>\n",
       "  <tbody>\n",
       "    <tr>\n",
       "      <th id=\"T_9e7fa_level0_row0\" class=\"row_heading level0 row0\" >Length_of_Conveyer</th>\n",
       "      <td id=\"T_9e7fa_row0_col0\" class=\"data row0 col0\" >0.057</td>\n",
       "    </tr>\n",
       "    <tr>\n",
       "      <th id=\"T_9e7fa_level0_row1\" class=\"row_heading level0 row1\" >Minimum_of_Luminosity</th>\n",
       "      <td id=\"T_9e7fa_row1_col0\" class=\"data row1 col0\" >0.055</td>\n",
       "    </tr>\n",
       "    <tr>\n",
       "      <th id=\"T_9e7fa_level0_row2\" class=\"row_heading level0 row2\" >Empty_Index</th>\n",
       "      <td id=\"T_9e7fa_row2_col0\" class=\"data row2 col0\" >0.055</td>\n",
       "    </tr>\n",
       "    <tr>\n",
       "      <th id=\"T_9e7fa_level0_row3\" class=\"row_heading level0 row3\" >Edges_Index</th>\n",
       "      <td id=\"T_9e7fa_row3_col0\" class=\"data row3 col0\" >0.053</td>\n",
       "    </tr>\n",
       "    <tr>\n",
       "      <th id=\"T_9e7fa_level0_row4\" class=\"row_heading level0 row4\" >Max_to_Mean_Luminosity</th>\n",
       "      <td id=\"T_9e7fa_row4_col0\" class=\"data row4 col0\" >0.050</td>\n",
       "    </tr>\n",
       "    <tr>\n",
       "      <th id=\"T_9e7fa_level0_row5\" class=\"row_heading level0 row5\" >Outside_X_Index</th>\n",
       "      <td id=\"T_9e7fa_row5_col0\" class=\"data row5 col0\" >0.050</td>\n",
       "    </tr>\n",
       "    <tr>\n",
       "      <th id=\"T_9e7fa_level0_row6\" class=\"row_heading level0 row6\" >Orientation_Index</th>\n",
       "      <td id=\"T_9e7fa_row6_col0\" class=\"data row6 col0\" >0.048</td>\n",
       "    </tr>\n",
       "    <tr>\n",
       "      <th id=\"T_9e7fa_level0_row7\" class=\"row_heading level0 row7\" >Mean_Luminosity</th>\n",
       "      <td id=\"T_9e7fa_row7_col0\" class=\"data row7 col0\" >0.045</td>\n",
       "    </tr>\n",
       "    <tr>\n",
       "      <th id=\"T_9e7fa_level0_row8\" class=\"row_heading level0 row8\" >Square_Index</th>\n",
       "      <td id=\"T_9e7fa_row8_col0\" class=\"data row8 col0\" >0.039</td>\n",
       "    </tr>\n",
       "    <tr>\n",
       "      <th id=\"T_9e7fa_level0_row9\" class=\"row_heading level0 row9\" >Log_Y_Index</th>\n",
       "      <td id=\"T_9e7fa_row9_col0\" class=\"data row9 col0\" >0.038</td>\n",
       "    </tr>\n",
       "  </tbody>\n",
       "</table>\n"
      ],
      "text/plain": [
       "<pandas.io.formats.style.Styler at 0x205740f4910>"
      ]
     },
     "metadata": {},
     "output_type": "display_data"
    },
    {
     "name": "stdout",
     "output_type": "stream",
     "text": [
      "\n",
      "🟢 Defecto: Z_Scratch — Top-10 variables\n"
     ]
    },
    {
     "data": {
      "text/html": [
       "<style type=\"text/css\">\n",
       "</style>\n",
       "<table id=\"T_6f699\">\n",
       "  <thead>\n",
       "    <tr>\n",
       "      <th class=\"blank level0\" >&nbsp;</th>\n",
       "      <th id=\"T_6f699_level0_col0\" class=\"col_heading level0 col0\" >importance</th>\n",
       "    </tr>\n",
       "  </thead>\n",
       "  <tbody>\n",
       "    <tr>\n",
       "      <th id=\"T_6f699_level0_row0\" class=\"row_heading level0 row0\" >Steel_Plate_Thickness</th>\n",
       "      <td id=\"T_6f699_row0_col0\" class=\"data row0 col0\" >0.077</td>\n",
       "    </tr>\n",
       "    <tr>\n",
       "      <th id=\"T_6f699_level0_row1\" class=\"row_heading level0 row1\" >Empty_Index</th>\n",
       "      <td id=\"T_6f699_row1_col0\" class=\"data row1 col0\" >0.073</td>\n",
       "    </tr>\n",
       "    <tr>\n",
       "      <th id=\"T_6f699_level0_row2\" class=\"row_heading level0 row2\" >Length_of_Conveyer</th>\n",
       "      <td id=\"T_6f699_row2_col0\" class=\"data row2 col0\" >0.059</td>\n",
       "    </tr>\n",
       "    <tr>\n",
       "      <th id=\"T_6f699_level0_row3\" class=\"row_heading level0 row3\" >Minimum_of_Luminosity</th>\n",
       "      <td id=\"T_6f699_row3_col0\" class=\"data row3 col0\" >0.050</td>\n",
       "    </tr>\n",
       "    <tr>\n",
       "      <th id=\"T_6f699_level0_row4\" class=\"row_heading level0 row4\" >X_Maximum</th>\n",
       "      <td id=\"T_6f699_row4_col0\" class=\"data row4 col0\" >0.050</td>\n",
       "    </tr>\n",
       "    <tr>\n",
       "      <th id=\"T_6f699_level0_row5\" class=\"row_heading level0 row5\" >Edges_Index</th>\n",
       "      <td id=\"T_6f699_row5_col0\" class=\"data row5 col0\" >0.043</td>\n",
       "    </tr>\n",
       "    <tr>\n",
       "      <th id=\"T_6f699_level0_row6\" class=\"row_heading level0 row6\" >X_Minimum</th>\n",
       "      <td id=\"T_6f699_row6_col0\" class=\"data row6 col0\" >0.042</td>\n",
       "    </tr>\n",
       "    <tr>\n",
       "      <th id=\"T_6f699_level0_row7\" class=\"row_heading level0 row7\" >X_Center_norm</th>\n",
       "      <td id=\"T_6f699_row7_col0\" class=\"data row7 col0\" >0.042</td>\n",
       "    </tr>\n",
       "    <tr>\n",
       "      <th id=\"T_6f699_level0_row8\" class=\"row_heading level0 row8\" >Orientation_Index</th>\n",
       "      <td id=\"T_6f699_row8_col0\" class=\"data row8 col0\" >0.039</td>\n",
       "    </tr>\n",
       "    <tr>\n",
       "      <th id=\"T_6f699_level0_row9\" class=\"row_heading level0 row9\" >Outside_X_Index</th>\n",
       "      <td id=\"T_6f699_row9_col0\" class=\"data row9 col0\" >0.038</td>\n",
       "    </tr>\n",
       "  </tbody>\n",
       "</table>\n"
      ],
      "text/plain": [
       "<pandas.io.formats.style.Styler at 0x205740f4640>"
      ]
     },
     "metadata": {},
     "output_type": "display_data"
    },
    {
     "name": "stdout",
     "output_type": "stream",
     "text": [
      "\n",
      "🟢 Defecto: K_Scratch — Top-10 variables\n"
     ]
    },
    {
     "data": {
      "text/html": [
       "<style type=\"text/css\">\n",
       "</style>\n",
       "<table id=\"T_7bb9c\">\n",
       "  <thead>\n",
       "    <tr>\n",
       "      <th class=\"blank level0\" >&nbsp;</th>\n",
       "      <th id=\"T_7bb9c_level0_col0\" class=\"col_heading level0 col0\" >importance</th>\n",
       "    </tr>\n",
       "  </thead>\n",
       "  <tbody>\n",
       "    <tr>\n",
       "      <th id=\"T_7bb9c_level0_row0\" class=\"row_heading level0 row0\" >Minimum_of_Luminosity</th>\n",
       "      <td id=\"T_7bb9c_row0_col0\" class=\"data row0 col0\" >0.056</td>\n",
       "    </tr>\n",
       "    <tr>\n",
       "      <th id=\"T_7bb9c_level0_row1\" class=\"row_heading level0 row1\" >Empty_Index</th>\n",
       "      <td id=\"T_7bb9c_row1_col0\" class=\"data row1 col0\" >0.054</td>\n",
       "    </tr>\n",
       "    <tr>\n",
       "      <th id=\"T_7bb9c_level0_row2\" class=\"row_heading level0 row2\" >Edges_Y_Index</th>\n",
       "      <td id=\"T_7bb9c_row2_col0\" class=\"data row2 col0\" >0.049</td>\n",
       "    </tr>\n",
       "    <tr>\n",
       "      <th id=\"T_7bb9c_level0_row3\" class=\"row_heading level0 row3\" >Maximum_of_Luminosity</th>\n",
       "      <td id=\"T_7bb9c_row3_col0\" class=\"data row3 col0\" >0.048</td>\n",
       "    </tr>\n",
       "    <tr>\n",
       "      <th id=\"T_7bb9c_level0_row4\" class=\"row_heading level0 row4\" >Length_of_Conveyer</th>\n",
       "      <td id=\"T_7bb9c_row4_col0\" class=\"data row4 col0\" >0.045</td>\n",
       "    </tr>\n",
       "    <tr>\n",
       "      <th id=\"T_7bb9c_level0_row5\" class=\"row_heading level0 row5\" >X_Center_norm</th>\n",
       "      <td id=\"T_7bb9c_row5_col0\" class=\"data row5 col0\" >0.044</td>\n",
       "    </tr>\n",
       "    <tr>\n",
       "      <th id=\"T_7bb9c_level0_row6\" class=\"row_heading level0 row6\" >Max_to_Mean_Luminosity</th>\n",
       "      <td id=\"T_7bb9c_row6_col0\" class=\"data row6 col0\" >0.042</td>\n",
       "    </tr>\n",
       "    <tr>\n",
       "      <th id=\"T_7bb9c_level0_row7\" class=\"row_heading level0 row7\" >Y_Center_norm</th>\n",
       "      <td id=\"T_7bb9c_row7_col0\" class=\"data row7 col0\" >0.041</td>\n",
       "    </tr>\n",
       "    <tr>\n",
       "      <th id=\"T_7bb9c_level0_row8\" class=\"row_heading level0 row8\" >Log_Y_Index</th>\n",
       "      <td id=\"T_7bb9c_row8_col0\" class=\"data row8 col0\" >0.041</td>\n",
       "    </tr>\n",
       "    <tr>\n",
       "      <th id=\"T_7bb9c_level0_row9\" class=\"row_heading level0 row9\" >Edges_Index</th>\n",
       "      <td id=\"T_7bb9c_row9_col0\" class=\"data row9 col0\" >0.038</td>\n",
       "    </tr>\n",
       "  </tbody>\n",
       "</table>\n"
      ],
      "text/plain": [
       "<pandas.io.formats.style.Styler at 0x20578349a00>"
      ]
     },
     "metadata": {},
     "output_type": "display_data"
    },
    {
     "name": "stdout",
     "output_type": "stream",
     "text": [
      "\n",
      "🟢 Defecto: Stains — Top-10 variables\n"
     ]
    },
    {
     "data": {
      "text/html": [
       "<style type=\"text/css\">\n",
       "</style>\n",
       "<table id=\"T_8fbe4\">\n",
       "  <thead>\n",
       "    <tr>\n",
       "      <th class=\"blank level0\" >&nbsp;</th>\n",
       "      <th id=\"T_8fbe4_level0_col0\" class=\"col_heading level0 col0\" >importance</th>\n",
       "    </tr>\n",
       "  </thead>\n",
       "  <tbody>\n",
       "    <tr>\n",
       "      <th id=\"T_8fbe4_level0_row0\" class=\"row_heading level0 row0\" >Steel_Plate_Thickness</th>\n",
       "      <td id=\"T_8fbe4_row0_col0\" class=\"data row0 col0\" >0.096</td>\n",
       "    </tr>\n",
       "    <tr>\n",
       "      <th id=\"T_8fbe4_level0_row1\" class=\"row_heading level0 row1\" >Minimum_of_Luminosity</th>\n",
       "      <td id=\"T_8fbe4_row1_col0\" class=\"data row1 col0\" >0.076</td>\n",
       "    </tr>\n",
       "    <tr>\n",
       "      <th id=\"T_8fbe4_level0_row2\" class=\"row_heading level0 row2\" >LogOfAreas</th>\n",
       "      <td id=\"T_8fbe4_row2_col0\" class=\"data row2 col0\" >0.067</td>\n",
       "    </tr>\n",
       "    <tr>\n",
       "      <th id=\"T_8fbe4_level0_row3\" class=\"row_heading level0 row3\" >Log_Y_Index</th>\n",
       "      <td id=\"T_8fbe4_row3_col0\" class=\"data row3 col0\" >0.056</td>\n",
       "    </tr>\n",
       "    <tr>\n",
       "      <th id=\"T_8fbe4_level0_row4\" class=\"row_heading level0 row4\" >Maximum_of_Luminosity</th>\n",
       "      <td id=\"T_8fbe4_row4_col0\" class=\"data row4 col0\" >0.053</td>\n",
       "    </tr>\n",
       "    <tr>\n",
       "      <th id=\"T_8fbe4_level0_row5\" class=\"row_heading level0 row5\" >Edges_Index</th>\n",
       "      <td id=\"T_8fbe4_row5_col0\" class=\"data row5 col0\" >0.052</td>\n",
       "    </tr>\n",
       "    <tr>\n",
       "      <th id=\"T_8fbe4_level0_row6\" class=\"row_heading level0 row6\" >Length_of_Conveyer</th>\n",
       "      <td id=\"T_8fbe4_row6_col0\" class=\"data row6 col0\" >0.051</td>\n",
       "    </tr>\n",
       "    <tr>\n",
       "      <th id=\"T_8fbe4_level0_row7\" class=\"row_heading level0 row7\" >Y_Perimeter</th>\n",
       "      <td id=\"T_8fbe4_row7_col0\" class=\"data row7 col0\" >0.050</td>\n",
       "    </tr>\n",
       "    <tr>\n",
       "      <th id=\"T_8fbe4_level0_row8\" class=\"row_heading level0 row8\" >Pixels_Areas</th>\n",
       "      <td id=\"T_8fbe4_row8_col0\" class=\"data row8 col0\" >0.049</td>\n",
       "    </tr>\n",
       "    <tr>\n",
       "      <th id=\"T_8fbe4_level0_row9\" class=\"row_heading level0 row9\" >Aspect_Ratio</th>\n",
       "      <td id=\"T_8fbe4_row9_col0\" class=\"data row9 col0\" >0.042</td>\n",
       "    </tr>\n",
       "  </tbody>\n",
       "</table>\n"
      ],
      "text/plain": [
       "<pandas.io.formats.style.Styler at 0x205782e6b50>"
      ]
     },
     "metadata": {},
     "output_type": "display_data"
    },
    {
     "name": "stdout",
     "output_type": "stream",
     "text": [
      "\n",
      "🟢 Defecto: Dirtiness — Top-10 variables\n"
     ]
    },
    {
     "data": {
      "text/html": [
       "<style type=\"text/css\">\n",
       "</style>\n",
       "<table id=\"T_b2538\">\n",
       "  <thead>\n",
       "    <tr>\n",
       "      <th class=\"blank level0\" >&nbsp;</th>\n",
       "      <th id=\"T_b2538_level0_col0\" class=\"col_heading level0 col0\" >importance</th>\n",
       "    </tr>\n",
       "  </thead>\n",
       "  <tbody>\n",
       "    <tr>\n",
       "      <th id=\"T_b2538_level0_row0\" class=\"row_heading level0 row0\" >Steel_Plate_Thickness</th>\n",
       "      <td id=\"T_b2538_row0_col0\" class=\"data row0 col0\" >0.092</td>\n",
       "    </tr>\n",
       "    <tr>\n",
       "      <th id=\"T_b2538_level0_row1\" class=\"row_heading level0 row1\" >Orientation_Index</th>\n",
       "      <td id=\"T_b2538_row1_col0\" class=\"data row1 col0\" >0.085</td>\n",
       "    </tr>\n",
       "    <tr>\n",
       "      <th id=\"T_b2538_level0_row2\" class=\"row_heading level0 row2\" >Edges_Index</th>\n",
       "      <td id=\"T_b2538_row2_col0\" class=\"data row2 col0\" >0.072</td>\n",
       "    </tr>\n",
       "    <tr>\n",
       "      <th id=\"T_b2538_level0_row3\" class=\"row_heading level0 row3\" >Minimum_of_Luminosity</th>\n",
       "      <td id=\"T_b2538_row3_col0\" class=\"data row3 col0\" >0.070</td>\n",
       "    </tr>\n",
       "    <tr>\n",
       "      <th id=\"T_b2538_level0_row4\" class=\"row_heading level0 row4\" >Aspect_Ratio</th>\n",
       "      <td id=\"T_b2538_row4_col0\" class=\"data row4 col0\" >0.055</td>\n",
       "    </tr>\n",
       "    <tr>\n",
       "      <th id=\"T_b2538_level0_row5\" class=\"row_heading level0 row5\" >Length_of_Conveyer</th>\n",
       "      <td id=\"T_b2538_row5_col0\" class=\"data row5 col0\" >0.052</td>\n",
       "    </tr>\n",
       "    <tr>\n",
       "      <th id=\"T_b2538_level0_row6\" class=\"row_heading level0 row6\" >X_Center_norm</th>\n",
       "      <td id=\"T_b2538_row6_col0\" class=\"data row6 col0\" >0.040</td>\n",
       "    </tr>\n",
       "    <tr>\n",
       "      <th id=\"T_b2538_level0_row7\" class=\"row_heading level0 row7\" >X_Maximum</th>\n",
       "      <td id=\"T_b2538_row7_col0\" class=\"data row7 col0\" >0.040</td>\n",
       "    </tr>\n",
       "    <tr>\n",
       "      <th id=\"T_b2538_level0_row8\" class=\"row_heading level0 row8\" >X_Minimum</th>\n",
       "      <td id=\"T_b2538_row8_col0\" class=\"data row8 col0\" >0.039</td>\n",
       "    </tr>\n",
       "    <tr>\n",
       "      <th id=\"T_b2538_level0_row9\" class=\"row_heading level0 row9\" >Square_Index</th>\n",
       "      <td id=\"T_b2538_row9_col0\" class=\"data row9 col0\" >0.037</td>\n",
       "    </tr>\n",
       "  </tbody>\n",
       "</table>\n"
      ],
      "text/plain": [
       "<pandas.io.formats.style.Styler at 0x20578349190>"
      ]
     },
     "metadata": {},
     "output_type": "display_data"
    },
    {
     "name": "stdout",
     "output_type": "stream",
     "text": [
      "\n",
      "🟢 Defecto: Bumps — Top-10 variables\n"
     ]
    },
    {
     "data": {
      "text/html": [
       "<style type=\"text/css\">\n",
       "</style>\n",
       "<table id=\"T_75b8c\">\n",
       "  <thead>\n",
       "    <tr>\n",
       "      <th class=\"blank level0\" >&nbsp;</th>\n",
       "      <th id=\"T_75b8c_level0_col0\" class=\"col_heading level0 col0\" >importance</th>\n",
       "    </tr>\n",
       "  </thead>\n",
       "  <tbody>\n",
       "    <tr>\n",
       "      <th id=\"T_75b8c_level0_row0\" class=\"row_heading level0 row0\" >Steel_Plate_Thickness</th>\n",
       "      <td id=\"T_75b8c_row0_col0\" class=\"data row0 col0\" >0.069</td>\n",
       "    </tr>\n",
       "    <tr>\n",
       "      <th id=\"T_75b8c_level0_row1\" class=\"row_heading level0 row1\" >Length_of_Conveyer</th>\n",
       "      <td id=\"T_75b8c_row1_col0\" class=\"data row1 col0\" >0.062</td>\n",
       "    </tr>\n",
       "    <tr>\n",
       "      <th id=\"T_75b8c_level0_row2\" class=\"row_heading level0 row2\" >Empty_Index</th>\n",
       "      <td id=\"T_75b8c_row2_col0\" class=\"data row2 col0\" >0.054</td>\n",
       "    </tr>\n",
       "    <tr>\n",
       "      <th id=\"T_75b8c_level0_row3\" class=\"row_heading level0 row3\" >Aspect_Ratio</th>\n",
       "      <td id=\"T_75b8c_row3_col0\" class=\"data row3 col0\" >0.046</td>\n",
       "    </tr>\n",
       "    <tr>\n",
       "      <th id=\"T_75b8c_level0_row4\" class=\"row_heading level0 row4\" >Minimum_of_Luminosity</th>\n",
       "      <td id=\"T_75b8c_row4_col0\" class=\"data row4 col0\" >0.046</td>\n",
       "    </tr>\n",
       "    <tr>\n",
       "      <th id=\"T_75b8c_level0_row5\" class=\"row_heading level0 row5\" >Y_Center_norm</th>\n",
       "      <td id=\"T_75b8c_row5_col0\" class=\"data row5 col0\" >0.043</td>\n",
       "    </tr>\n",
       "    <tr>\n",
       "      <th id=\"T_75b8c_level0_row6\" class=\"row_heading level0 row6\" >Edges_Index</th>\n",
       "      <td id=\"T_75b8c_row6_col0\" class=\"data row6 col0\" >0.042</td>\n",
       "    </tr>\n",
       "    <tr>\n",
       "      <th id=\"T_75b8c_level0_row7\" class=\"row_heading level0 row7\" >Mean_Luminosity</th>\n",
       "      <td id=\"T_75b8c_row7_col0\" class=\"data row7 col0\" >0.041</td>\n",
       "    </tr>\n",
       "    <tr>\n",
       "      <th id=\"T_75b8c_level0_row8\" class=\"row_heading level0 row8\" >Outside_X_Index</th>\n",
       "      <td id=\"T_75b8c_row8_col0\" class=\"data row8 col0\" >0.040</td>\n",
       "    </tr>\n",
       "    <tr>\n",
       "      <th id=\"T_75b8c_level0_row9\" class=\"row_heading level0 row9\" >X_Center_norm</th>\n",
       "      <td id=\"T_75b8c_row9_col0\" class=\"data row9 col0\" >0.039</td>\n",
       "    </tr>\n",
       "  </tbody>\n",
       "</table>\n"
      ],
      "text/plain": [
       "<pandas.io.formats.style.Styler at 0x205740f4700>"
      ]
     },
     "metadata": {},
     "output_type": "display_data"
    },
    {
     "name": "stdout",
     "output_type": "stream",
     "text": [
      "\n",
      "🟢 Defecto: Other_Faults — Top-10 variables\n"
     ]
    },
    {
     "data": {
      "text/html": [
       "<style type=\"text/css\">\n",
       "</style>\n",
       "<table id=\"T_3cbc8\">\n",
       "  <thead>\n",
       "    <tr>\n",
       "      <th class=\"blank level0\" >&nbsp;</th>\n",
       "      <th id=\"T_3cbc8_level0_col0\" class=\"col_heading level0 col0\" >importance</th>\n",
       "    </tr>\n",
       "  </thead>\n",
       "  <tbody>\n",
       "    <tr>\n",
       "      <th id=\"T_3cbc8_level0_row0\" class=\"row_heading level0 row0\" >Empty_Index</th>\n",
       "      <td id=\"T_3cbc8_row0_col0\" class=\"data row0 col0\" >0.058</td>\n",
       "    </tr>\n",
       "    <tr>\n",
       "      <th id=\"T_3cbc8_level0_row1\" class=\"row_heading level0 row1\" >Y_Center_norm</th>\n",
       "      <td id=\"T_3cbc8_row1_col0\" class=\"data row1 col0\" >0.054</td>\n",
       "    </tr>\n",
       "    <tr>\n",
       "      <th id=\"T_3cbc8_level0_row2\" class=\"row_heading level0 row2\" >Max_to_Mean_Luminosity</th>\n",
       "      <td id=\"T_3cbc8_row2_col0\" class=\"data row2 col0\" >0.052</td>\n",
       "    </tr>\n",
       "    <tr>\n",
       "      <th id=\"T_3cbc8_level0_row3\" class=\"row_heading level0 row3\" >Minimum_of_Luminosity</th>\n",
       "      <td id=\"T_3cbc8_row3_col0\" class=\"data row3 col0\" >0.052</td>\n",
       "    </tr>\n",
       "    <tr>\n",
       "      <th id=\"T_3cbc8_level0_row4\" class=\"row_heading level0 row4\" >Edges_Index</th>\n",
       "      <td id=\"T_3cbc8_row4_col0\" class=\"data row4 col0\" >0.049</td>\n",
       "    </tr>\n",
       "    <tr>\n",
       "      <th id=\"T_3cbc8_level0_row5\" class=\"row_heading level0 row5\" >Mean_Luminosity</th>\n",
       "      <td id=\"T_3cbc8_row5_col0\" class=\"data row5 col0\" >0.048</td>\n",
       "    </tr>\n",
       "    <tr>\n",
       "      <th id=\"T_3cbc8_level0_row6\" class=\"row_heading level0 row6\" >Steel_Plate_Thickness</th>\n",
       "      <td id=\"T_3cbc8_row6_col0\" class=\"data row6 col0\" >0.043</td>\n",
       "    </tr>\n",
       "    <tr>\n",
       "      <th id=\"T_3cbc8_level0_row7\" class=\"row_heading level0 row7\" >Aspect_Ratio</th>\n",
       "      <td id=\"T_3cbc8_row7_col0\" class=\"data row7 col0\" >0.042</td>\n",
       "    </tr>\n",
       "    <tr>\n",
       "      <th id=\"T_3cbc8_level0_row8\" class=\"row_heading level0 row8\" >Length_of_Conveyer</th>\n",
       "      <td id=\"T_3cbc8_row8_col0\" class=\"data row8 col0\" >0.042</td>\n",
       "    </tr>\n",
       "    <tr>\n",
       "      <th id=\"T_3cbc8_level0_row9\" class=\"row_heading level0 row9\" >Orientation_Index</th>\n",
       "      <td id=\"T_3cbc8_row9_col0\" class=\"data row9 col0\" >0.041</td>\n",
       "    </tr>\n",
       "  </tbody>\n",
       "</table>\n"
      ],
      "text/plain": [
       "<pandas.io.formats.style.Styler at 0x20578349a90>"
      ]
     },
     "metadata": {},
     "output_type": "display_data"
    }
   ],
   "source": [
    "# ---------------------------------------------------------------\n",
    "# Top-variables por defecto (LightGBM uno-por-clase)\n",
    "# ---------------------------------------------------------------\n",
    "# --- 1) Localizar la raíz del proyecto --------------------------\n",
    "\n",
    "ROOT_DIR  = Path(root)\n",
    "MODEL_DIR = ROOT_DIR / \"models\" / \"03_Notebook\"\n",
    "PREPROC_PATH = MODEL_DIR / \"preprocessor\" / \"preprocessor_final.pkl\"\n",
    "\n",
    "# --- 2) Cargar preprocesador y nombres de features --------------\n",
    "preprocessor   = joblib.load(PREPROC_PATH)\n",
    "feature_names  = preprocessor.get_feature_names_out()\n",
    "\n",
    "# --- 3) Cargar clasificadores (uno por etiqueta) ----------------\n",
    "class_names = [\n",
    "    \"Pastry\", \"Z_Scratch\", \"K_Scratch\",\n",
    "    \"Stains\", \"Dirtiness\", \"Bumps\", \"Other_Faults\"\n",
    "]\n",
    "\n",
    "estimators = [\n",
    "    joblib.load(MODEL_DIR / f\"lgbm_label{k}_final.pkl\")   # ajusta «lgbm» \n",
    "    for k in range(7)\n",
    "]\n",
    "\n",
    "# --- 4) Matriz de importancias normalizadas ---------------------\n",
    "imp_matrix = np.vstack([\n",
    "    est.feature_importances_ / est.feature_importances_.sum()\n",
    "    for est in estimators\n",
    "]).T\n",
    "\n",
    "imp_df = pd.DataFrame(imp_matrix, index=feature_names, columns=class_names)\n",
    "\n",
    "# --- 5) Mostrar Top-10 variables por defecto --------------------\n",
    "for defect in class_names:\n",
    "    top10 = (\n",
    "        imp_df[defect]\n",
    "        .sort_values(ascending=False)\n",
    "        .head(10)\n",
    "        .to_frame(name=\"importance\")\n",
    "    )\n",
    "    print(f\"\\n🟢 Defecto: {defect} — Top-10 variables\")\n",
    "    display(top10.style.format(\"{:.3f}\"))"
   ]
  },
  {
   "cell_type": "code",
   "execution_count": 23,
   "id": "ebfe2c52-94b1-489b-b1dd-2dd70721306c",
   "metadata": {},
   "outputs": [
    {
     "data": {
      "image/png": "[encoded data removed]",
      "text/plain": [
       "<Figure size 1000x600 with 2 Axes>"
      ]
     },
     "metadata": {},
     "output_type": "display_data"
    }
   ],
   "source": [
    "# --- 6) Heat-map de las 20 variables más influyentes en global --\n",
    "top_feats = (\n",
    "    imp_df.max(axis=1)              # importancia máxima que alcanza cada feature\n",
    "          .sort_values(ascending=False)\n",
    "          .head(20)\n",
    "          .index\n",
    ")\n",
    "\n",
    "plt.figure(figsize=(10, 6))\n",
    "plt.imshow(imp_df.loc[top_feats], aspect=\"auto\")\n",
    "plt.yticks(range(len(top_feats)), top_feats)\n",
    "plt.xticks(range(len(class_names)), class_names, rotation=45, ha=\"right\")\n",
    "plt.colorbar(label=\"Importancia normalizada\")\n",
    "plt.title(\"Mapa de calor – 20 variables más influyentes (LightGBM)\")\n",
    "plt.tight_layout()\n",
    "plt.show()"
   ]
  },
  {
   "cell_type": "code",
   "execution_count": null,
   "id": "c48e89ed-f3a5-4de5-8cad-8fd65dafdc20",
   "metadata": {},
   "outputs": [],
   "source": []
  }
 ],
 "metadata": {
  "kernelspec": {
   "display_name": "Python [conda env:TFG]",
   "language": "python",
   "name": "conda-env-TFG-py"
  },
  "language_info": {
   "codemirror_mode": {
    "name": "ipython",
    "version": 3
   },
   "file_extension": ".py",
   "mimetype": "text/x-python",
   "name": "python",
   "nbconvert_exporter": "python",
   "pygments_lexer": "ipython3",
   "version": "3.9.21"
  }
 },
 "nbformat": 4,
 "nbformat_minor": 5
}
