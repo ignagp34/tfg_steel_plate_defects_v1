{
 "cells": [
  {
   "cell_type": "code",
   "execution_count": null,
   "id": "32b985eb-d6ef-4a7d-88aa-6bb7e5fac109",
   "metadata": {},
   "outputs": [],
   "source": [
    "# 1) Cargar el dataset bruto\n",
    "df = pd.read_csv(r\"C:\\Users\\ignag\\OneDrive\\Documentos\\tfg‑steel‑plate‑defects_v1\\data\\raw\\playground-series-s4e3\\train.csv\")\n",
    "STATS_PATH = ROOT_DIR / \"reports/tables/summary_statistics.csv\"\n",
    "# 2) Nombres de las 7 clases  →  **lista**, no tupla\n",
    "TARGETS = [\n",
    "    \"Pastry\", \"Z_Scratch\", \"K_Scatch\",\n",
    "    \"Stains\", \"Dirtiness\", \"Bumps\", \"Other_Faults\",\n",
    "]\n",
    "\n",
    "\n",
    "# 3) Llama aquí a tu función de limpieza real, si la tienes:\n",
    "from src.models.training import clean_raw_df\n",
    "df_clean = clean_raw_df(df)\n",
    "\n",
    "# 4) Separar etiquetas y features\n",
    "y_raw = df_clean[TARGETS].copy()                   # etiquetas\n",
    "X_raw = df_clean.drop(columns=TARGETS + [\"id\"])    # resto de columnas\n",
    "\n",
    "#    Para esta demo dejo el paso-through:\n",
    "X_clean, y_clean = X_raw, y_raw\n",
    "\n",
    "_\n",
    "# 5) Conteo de positivos y porcentaje sobre el total de filas\n",
    "pos_counts = (\n",
    "    y_clean.sum()\n",
    "            .to_frame(\"positives\")\n",
    "            .assign(percent=lambda d: 100 * d[\"positives\"] / len(y_clean))\n",
    "            .round({\"percent\": 6})\n",
    "            .sort_index()\n",
    ")\n",
    "\n",
    "display(pos_counts)   # Muestra la tabla formateada en Jupyter"
   ]
  }
 ],
 "metadata": {
  "kernelspec": {
   "display_name": "Python [conda env:base] *",
   "language": "python",
   "name": "conda-base-py"
  },
  "language_info": {
   "codemirror_mode": {
    "name": "ipython",
    "version": 3
   },
   "file_extension": ".py",
   "mimetype": "text/x-python",
   "name": "python",
   "nbconvert_exporter": "python",
   "pygments_lexer": "ipython3",
   "version": "3.12.7"
  }
 },
 "nbformat": 4,
 "nbformat_minor": 5
}
